{
 "cells": [
  {
   "cell_type": "code",
   "execution_count": 1,
   "metadata": {
    "scrolled": true
   },
   "outputs": [
    {
     "name": "stdout",
     "output_type": "stream",
     "text": [
      "(1-2.2j)\n"
     ]
    }
   ],
   "source": [
    "# program to subtract two complex\n",
    "\n",
    "a = 2+2.3j\n",
    "b = 1+4.5j\n",
    "print(a-b)"
   ]
  },
  {
   "cell_type": "code",
   "execution_count": 2,
   "metadata": {},
   "outputs": [
    {
     "name": "stdout",
     "output_type": "stream",
     "text": [
      "2.0\n"
     ]
    }
   ],
   "source": [
    "# program to find the fourth root of a number\n",
    "\n",
    "a= 16\n",
    "print(a**(1/4))"
   ]
  },
  {
   "cell_type": "code",
   "execution_count": 3,
   "metadata": {},
   "outputs": [
    {
     "name": "stdout",
     "output_type": "stream",
     "text": [
      "a = 2 and b = 1\n"
     ]
    }
   ],
   "source": [
    "# program to swap two numbers in Python with the help of a temporary variable\n",
    "\n",
    "a = 1\n",
    "b = 2\n",
    "c = b\n",
    "d = a\n",
    "print('a =', c,'and', 'b =', d)"
   ]
  },
  {
   "cell_type": "code",
   "execution_count": 4,
   "metadata": {},
   "outputs": [
    {
     "name": "stdout",
     "output_type": "stream",
     "text": [
      "a = 4 and b = 3\n"
     ]
    }
   ],
   "source": [
    "# program to swap two numbers in Python without using a temporary variable\n",
    "\n",
    "a =3\n",
    "b = 4\n",
    "print('a =', b,'and', 'b =', a)"
   ]
  },
  {
   "cell_type": "code",
   "execution_count": 5,
   "metadata": {},
   "outputs": [
    {
     "name": "stdout",
     "output_type": "stream",
     "text": [
      "K = 311.27777777777777 and C= 37.77777777777778\n"
     ]
    }
   ],
   "source": [
    "# program to convert fahrenheit to kelvin and celsius\n",
    "\n",
    "F = 100\n",
    "print('K =',(273.5 + ((F - 32.0) * (5.0/9.0))), 'and', 'C=',(F - 32) * 5.0/9.0)"
   ]
  },
  {
   "cell_type": "code",
   "execution_count": 6,
   "metadata": {},
   "outputs": [
    {
     "name": "stdout",
     "output_type": "stream",
     "text": [
      "<class 'int'>\n",
      "<class 'float'>\n",
      "<class 'complex'>\n",
      "<class 'str'>\n",
      "<class 'tuple'>\n"
     ]
    }
   ],
   "source": [
    "# program to demonstrate all the available data types in Python\n",
    "\n",
    "a = 1\n",
    "b = 1.9\n",
    "c = 2.14j\n",
    "d =\"lets upgrade AI-ML\"\n",
    "e = 1,00,000\n",
    "print(type(a))\n",
    "print(type(b))\n",
    "print(type(c))\n",
    "print(type(d))\n",
    "print(type(e))"
   ]
  },
  {
   "cell_type": "markdown",
   "metadata": {},
   "source": [
    "# Steps to  to create Github profile and upload Githubs Assignment\n",
    "\n",
    " 1. Open website github.com\n",
    " 2. Create an account using your email id & Password.\n",
    " 3. Now in github ID go to create Repositories and create it by the name of Letsupgrade AI-ML and make it public.\n",
    " 4. Now do the assignment and save it in the Day 3 folder in your system.\n",
    " 5. Now go to github and in the Letsupgrade AI-ML repositories upload the folder Day 3.\n",
    " 6. Copy the URL of the Folder of that day and paste in the Assignment Submission Form (Google Form)\n",
    " 7. Congratulations you have successfully submitted the assignment."
   ]
  },
  {
   "cell_type": "code",
   "execution_count": null,
   "metadata": {},
   "outputs": [],
   "source": []
  }
 ],
 "metadata": {
  "kernelspec": {
   "display_name": "Python 3",
   "language": "python",
   "name": "python3"
  },
  "language_info": {
   "codemirror_mode": {
    "name": "ipython",
    "version": 3
   },
   "file_extension": ".py",
   "mimetype": "text/x-python",
   "name": "python",
   "nbconvert_exporter": "python",
   "pygments_lexer": "ipython3",
   "version": "3.7.6"
  }
 },
 "nbformat": 4,
 "nbformat_minor": 4
}
