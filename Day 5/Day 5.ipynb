{
 "cells": [
  {
   "cell_type": "code",
   "execution_count": 1,
   "metadata": {},
   "outputs": [
    {
     "name": "stdout",
     "output_type": "stream",
     "text": [
      "3 5 7 11 13 17 19 23 29 31 37 41 43 47 53 59 61 67 71 73 "
     ]
    }
   ],
   "source": [
    "# Question 1\n",
    "\n",
    "for val in range(2,75):\n",
    "    if val > 1:\n",
    "        for n in range(2,val//2 + 2):\n",
    "            if(val % n) == 0:\n",
    "                break\n",
    "            else:\n",
    "                if n == val//2 + 1:\n",
    "                    print(val, end = \" \")"
   ]
  },
  {
   "cell_type": "code",
   "execution_count": 2,
   "metadata": {},
   "outputs": [
    {
     "name": "stdout",
     "output_type": "stream",
     "text": [
      "LetsUpgrade AI\n",
      "L\n",
      "d\n",
      "U\n",
      "True\n",
      "Up\n",
      "Lets\n",
      "Upgrade AI\n",
      "IA edargpUsteL\n",
      "lETSuPGRADE ai\n",
      "letsupgrade ai\n",
      "LETSUPGRADE AI\n",
      "False\n",
      "LitsUpgradi AI\n",
      "14\n"
     ]
    }
   ],
   "source": [
    "# Question 2\n",
    "\n",
    "s = \"LetsUpgrade AI\"\n",
    "print(s)\n",
    "print(s[0])\n",
    "print(s[9])\n",
    "print(s[-10])\n",
    "print(s[9]==s[-5])\n",
    "print(s[4:6])\n",
    "print(s[:4])\n",
    "print(s[4:])\n",
    "print(s[::-1])\n",
    "print(s.swapcase())\n",
    "print(s.lower())\n",
    "print(s.upper())\n",
    "print(s.isalpha())\n",
    "print(s.replace('e','i'))\n",
    "print(len(s))"
   ]
  },
  {
   "cell_type": "code",
   "execution_count": 10,
   "metadata": {},
   "outputs": [
    {
     "name": "stdout",
     "output_type": "stream",
     "text": [
      "Enter string 1: malayalam\n",
      "Enter string 2: malayalam\n",
      "string is Palindrome\n"
     ]
    }
   ],
   "source": [
    "# Question 3\n",
    "\n",
    "a = input(\"Enter string 1: \")\n",
    "b = input(\"Enter string 2: \")\n",
    "if(b[::-1]==a):\n",
    "    print(\"string is Palindrome\")\n",
    "elif(sorted(b)==sorted(a)):\n",
    "    print(\"string is Anagram\")\n",
    "else:\n",
    "    print(\"String is not Palindrome or Anagram\")"
   ]
  },
  {
   "cell_type": "code",
   "execution_count": 11,
   "metadata": {},
   "outputs": [
    {
     "name": "stdout",
     "output_type": "stream",
     "text": [
      "\"Dr. Darshan Ingle @AI-ML Trainer\n",
      "drdarshaningleaimltrainer"
     ]
    }
   ],
   "source": [
    "# Question 4\n",
    "\n",
    "s = input()\n",
    "s=s.lower()\n",
    "for i in s:\n",
    "    if i.isdigit() or (ord(i)>=96 and ord(i)<=122):\n",
    "        print(i, end=\"\")"
   ]
  },
  {
   "cell_type": "code",
   "execution_count": null,
   "metadata": {},
   "outputs": [],
   "source": []
  },
  {
   "cell_type": "code",
   "execution_count": null,
   "metadata": {},
   "outputs": [],
   "source": []
  }
 ],
 "metadata": {
  "kernelspec": {
   "display_name": "Python 3",
   "language": "python",
   "name": "python3"
  },
  "language_info": {
   "codemirror_mode": {
    "name": "ipython",
    "version": 3
   },
   "file_extension": ".py",
   "mimetype": "text/x-python",
   "name": "python",
   "nbconvert_exporter": "python",
   "pygments_lexer": "ipython3",
   "version": "3.7.6"
  }
 },
 "nbformat": 4,
 "nbformat_minor": 4
}
