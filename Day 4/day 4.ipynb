{
 "cells": [
  {
   "cell_type": "code",
   "execution_count": 1,
   "metadata": {},
   "outputs": [
    {
     "name": "stdout",
     "output_type": "stream",
     "text": [
      "(11+11j)\n"
     ]
    }
   ],
   "source": [
    "# Addition of Complex numbers\n",
    "\n",
    "a = 4+3j\n",
    "b = 7 + 8j\n",
    "print(a + b)"
   ]
  },
  {
   "cell_type": "code",
   "execution_count": 2,
   "metadata": {},
   "outputs": [
    {
     "name": "stdout",
     "output_type": "stream",
     "text": [
      "(-3-5j)\n"
     ]
    }
   ],
   "source": [
    "# Subtraction of complex numbers\n",
    "\n",
    "a = 4+3j\n",
    "b = 7 + 8j\n",
    "print(a - b)"
   ]
  },
  {
   "cell_type": "code",
   "execution_count": 3,
   "metadata": {},
   "outputs": [
    {
     "name": "stdout",
     "output_type": "stream",
     "text": [
      "(4+53j)\n"
     ]
    }
   ],
   "source": [
    "# Multiplication of complex numbers\n",
    "\n",
    "a = 4+3j\n",
    "b = 7 + 8j\n",
    "print(a * b)"
   ]
  },
  {
   "cell_type": "code",
   "execution_count": 4,
   "metadata": {},
   "outputs": [
    {
     "name": "stdout",
     "output_type": "stream",
     "text": [
      "(0.46017699115044247-0.09734513274336283j)\n"
     ]
    }
   ],
   "source": [
    "# Division of complex numbers\n",
    "\n",
    "a = 4+3j\n",
    "b = 7 + 8j\n",
    "print(a / b)"
   ]
  },
  {
   "cell_type": "markdown",
   "metadata": {},
   "source": [
    "floor division & Modulo of complex numbers if not possible. "
   ]
  },
  {
   "cell_type": "markdown",
   "metadata": {},
   "source": [
    "# Range Function\n",
    "\n",
    "A range function will give us sequence of numbers starting from 0 by default and will end on the specified number. It will increase by 1 number by default.\n",
    "\n",
    "There are 3 parameters of range function:\n",
    "1. Start: It is an optional parameter. If it is not defined then the sequence will start from 0, but if defined then the sequence will start from that number.\n",
    "2. Stop: It is not an optional parameter as there is no default stop value, hence the user has to define the integer number at which it need to stop.\n",
    "3. Step: It is an optional parameter.If not defined then there will be a gap of 1 in between by default, but if defined then there will be a gap of that value which is defined by user.\n"
   ]
  },
  {
   "cell_type": "code",
   "execution_count": 1,
   "metadata": {},
   "outputs": [
    {
     "name": "stdout",
     "output_type": "stream",
     "text": [
      "0\n",
      "1\n",
      "2\n",
      "3\n",
      "4\n",
      "5\n",
      "6\n",
      "7\n",
      "8\n",
      "9\n"
     ]
    }
   ],
   "source": [
    "# Program for range\n",
    "\n",
    "a = range(10)\n",
    "for i in a:\n",
    "    print(i)"
   ]
  },
  {
   "cell_type": "code",
   "execution_count": 6,
   "metadata": {},
   "outputs": [
    {
     "name": "stdout",
     "output_type": "stream",
     "text": [
      "0\n",
      "5\n",
      "10\n",
      "15\n",
      "20\n",
      "25\n",
      "30\n",
      "35\n",
      "40\n",
      "45\n",
      "50\n",
      "55\n",
      "60\n",
      "65\n",
      "70\n",
      "75\n",
      "80\n",
      "85\n",
      "90\n",
      "95\n"
     ]
    }
   ],
   "source": [
    "# program for range but with increment of 5\n",
    "\n",
    "a = range(0, 100, 5)\n",
    "\n",
    "for i in a:\n",
    "    print(i)"
   ]
  },
  {
   "cell_type": "code",
   "execution_count": 7,
   "metadata": {},
   "outputs": [
    {
     "name": "stdout",
     "output_type": "stream",
     "text": [
      "3655\n"
     ]
    }
   ],
   "source": [
    "# Solution to question no 3\n",
    "\n",
    "a = 85\n",
    "b = 43\n",
    "if (a-b > 25):\n",
    "    print(a*b)\n",
    "else:\n",
    "  print(a/b)"
   ]
  },
  {
   "cell_type": "code",
   "execution_count": 8,
   "metadata": {},
   "outputs": [
    {
     "name": "stdout",
     "output_type": "stream",
     "text": [
      "11\n",
      "398\n",
      "898\n",
      "1598\n",
      "2498\n",
      "3598\n",
      "4898\n",
      "6398\n",
      "8098\n",
      "85\n"
     ]
    }
   ],
   "source": [
    "# solution to question no 4 \n",
    "\n",
    "a = [11,20,30,40,50,60,70,80,90,85]\n",
    "for i in a:\n",
    "  if i%2==0:\n",
    "    print((i**2)-2)\n",
    "  else:\n",
    "      print(i)"
   ]
  },
  {
   "cell_type": "code",
   "execution_count": 9,
   "metadata": {},
   "outputs": [
    {
     "name": "stdout",
     "output_type": "stream",
     "text": [
      "20\n",
      "33\n",
      "45\n",
      "56\n",
      "61\n",
      "72\n"
     ]
    }
   ],
   "source": [
    "# solution to question no 5\n",
    "\n",
    "a = [1,5, 9,11,20,33,45,56,61,72]\n",
    "for i in a:\n",
    "  if i/2>7:\n",
    "    print(i)"
   ]
  },
  {
   "cell_type": "code",
   "execution_count": null,
   "metadata": {},
   "outputs": [],
   "source": []
  }
 ],
 "metadata": {
  "kernelspec": {
   "display_name": "Python 3",
   "language": "python",
   "name": "python3"
  },
  "language_info": {
   "codemirror_mode": {
    "name": "ipython",
    "version": 3
   },
   "file_extension": ".py",
   "mimetype": "text/x-python",
   "name": "python",
   "nbconvert_exporter": "python",
   "pygments_lexer": "ipython3",
   "version": "3.7.6"
  }
 },
 "nbformat": 4,
 "nbformat_minor": 4
}
